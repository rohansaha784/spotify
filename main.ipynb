{
 "cells": [
  {
   "cell_type": "code",
   "execution_count": 2,
   "metadata": {},
   "outputs": [
    {
     "name": "stdout",
     "output_type": "stream",
     "text": [
      "Data loaded into the database spotify_cs210.db\n"
     ]
    }
   ],
   "source": [
    "import sqlite3\n",
    "import pandas as pd\n",
    "\n",
    "def build_database(db_name, csv_file_path):\n",
    "\n",
    "    conn = sqlite3.connect(db_name)\n",
    "    cursor = conn.cursor()\n",
    "\n",
    "    cursor.execute(\"\"\"\n",
    "    CREATE TABLE IF NOT EXISTS songs (\n",
    "        name TEXT,\n",
    "        artists TEXT,\n",
    "        energy REAL,\n",
    "        ranking REAL,\n",
    "        danceability REAL,\n",
    "        valence REAL,\n",
    "        instrumentalness REAL,\n",
    "        loudness REAL,\n",
    "        duration_ms REAL,\n",
    "        tempo REAL,\n",
    "        country TEXT\n",
    "    )\n",
    "    \"\"\")\n",
    "\n",
    "    data = pd.read_csv(csv_file_path)\n",
    "    data.to_sql(\"spotify_cs210\", conn, if_exists=\"replace\", index=False)\n",
    "    print(f\"Data loaded into the database {db_name}\")\n",
    "\n",
    "    conn.commit()\n",
    "    conn.close()\n",
    "\n",
    "build_database(\"spotify_cs210.db\", \"data/Varun-Filtered.csv\")\n"
   ]
  }
 ],
 "metadata": {
  "kernelspec": {
   "display_name": "Python 3",
   "language": "python",
   "name": "python3"
  },
  "language_info": {
   "codemirror_mode": {
    "name": "ipython",
    "version": 3
   },
   "file_extension": ".py",
   "mimetype": "text/x-python",
   "name": "python",
   "nbconvert_exporter": "python",
   "pygments_lexer": "ipython3",
   "version": "3.12.0"
  }
 },
 "nbformat": 4,
 "nbformat_minor": 2
}
